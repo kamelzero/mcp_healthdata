{
 "cells": [
  {
   "cell_type": "code",
   "execution_count": null,
   "metadata": {},
   "outputs": [],
   "source": [
    "import requests\n",
    "import pandas as pd\n",
    "import matplotlib.pyplot as plt\n",
    "\n",
    "MCP_SERVER = \"http://localhost:8000\"\n",
    "\n",
    "def run_mcp_query(sql_query):\n",
    "    payload = {\"query\": sql_query}\n",
    "    response = requests.post(f\"{MCP_SERVER}/v1/query\", json=payload)\n",
    "    result = response.json()\n",
    "    return pd.DataFrame(result['rows'])\n",
    "\n",
    "# 1. COPD Prevalence among smokers aged 40+\n",
    "query1 = \"\"\"\n",
    "SELECT COUNT(*) AS total_smokers_40plus,\n",
    "       SUM(CASE WHEN MCQ160P = 1 THEN 1 ELSE 0 END) AS copd_among_smokers\n",
    "FROM nhanes_survey\n",
    "WHERE SMQ020 = 1 AND RIDAGEYR >= 40;\n",
    "\"\"\"\n",
    "\n",
    "df1 = run_mcp_query(query1)\n",
    "print(df1)\n",
    "\n",
    "# 2. PM2.5 Trend in California\n",
    "query2 = \"\"\"\n",
    "SELECT year, pm25_annual_mean\n",
    "FROM state_air_quality\n",
    "WHERE state = 'California'\n",
    "ORDER BY year;\n",
    "\"\"\"\n",
    "\n",
    "df2 = run_mcp_query(query2)\n",
    "plt.plot(df2['year'], df2['pm25_annual_mean'], marker='o')\n",
    "plt.xlabel('Year')\n",
    "plt.ylabel('PM2.5 (µg/m³)')\n",
    "plt.title('California PM2.5 Annual Mean (2018–2023)')\n",
    "plt.show()\n"
   ]
  }
 ],
 "metadata": {
  "language_info": {
   "name": "python"
  }
 },
 "nbformat": 4,
 "nbformat_minor": 2
}
